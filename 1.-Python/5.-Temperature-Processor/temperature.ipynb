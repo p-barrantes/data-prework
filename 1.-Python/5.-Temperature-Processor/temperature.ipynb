{
 "cells": [
  {
   "cell_type": "markdown",
   "metadata": {},
   "source": [
    "<img src=\"https://bit.ly/2VnXWr2\" width=\"100\" align=\"left\">"
   ]
  },
  {
   "cell_type": "markdown",
   "metadata": {},
   "source": [
    "# Temperature Sensor\n",
    "\n",
    "There is a temperature sensor in the processor of your company's server. The company wants to analyze the data provided by the sensor to decide if they should change the cooling system for a better one. As changing the cooling system is expensive and you are an excellent data analyst, you can't make a decision without basis.\n",
    "\n",
    "## Tools\n",
    "You don't necessarily need to use all the tools. Maybe you opt to use some of them or completely different ones, they are given to help you shape the exercise. Programming exercises can be solved in many different ways.\n",
    "1. Data structures: **lists**\n",
    "2. Loops: **list comprehension**\n",
    "3. Functions: **min, max, print, len**\n",
    "4. Conditional statements: **if-elif-else**\n",
    "\n",
    "## Tasks\n",
    "The temperatures measured throughout the 24 hours of a day are:"
   ]
  },
  {
   "cell_type": "code",
   "execution_count": 1,
   "metadata": {},
   "outputs": [],
   "source": [
    "temperatures_C = [33, 66, 65, 0, 59, 60, 62, 64, 70, 76, 80, 81, 80, 83, 90, 79, 61, 53, 50, 49, 53, 48, 45, 39]"
   ]
  },
  {
   "cell_type": "markdown",
   "metadata": {},
   "source": [
    "The first element of the list is the temperature at 12am, the second element is the temperature at 1am, and so on. \n",
    "\n",
    "The company has decided that if one of the following events occurs, then the cooling system needs to be replaced for a new one to avoid damaging the processor.\n",
    "* More than 4 temperatures are greater than or equal to 70ºC.\n",
    "* Any temperature is above 80ºC.\n",
    "* The average temperature exceeds 65ºC.\n",
    "\n",
    "Follow the steps so that you can make the decision.\n",
    "\n",
    "#### 1. Find the minimum temperature of the day and store it in a variable."
   ]
  },
  {
   "cell_type": "code",
   "execution_count": 2,
   "metadata": {},
   "outputs": [
    {
     "output_type": "stream",
     "name": "stdout",
     "text": [
      "The minimum temperature of the day has been 0 ºC.\n"
     ]
    }
   ],
   "source": [
    "min_temperature = min(temperatures_C)\n",
    "\n",
    "print('The minimum temperature of the day has been', min_temperature, 'ºC.')"
   ]
  },
  {
   "cell_type": "markdown",
   "metadata": {},
   "source": [
    "#### 2. Find the maximum temperature of the day and store it in a variable."
   ]
  },
  {
   "cell_type": "code",
   "execution_count": 3,
   "metadata": {},
   "outputs": [
    {
     "output_type": "stream",
     "name": "stdout",
     "text": [
      "The maximum temperature of the day has been 90 ºC.\n"
     ]
    }
   ],
   "source": [
    "max_temperature = max(temperatures_C)\n",
    "\n",
    "print('The maximum temperature of the day has been', max_temperature, 'ºC.')"
   ]
  },
  {
   "cell_type": "markdown",
   "metadata": {},
   "source": [
    "#### 3. Create a list with the temperatures that are greater than or equal to 70ºC. Store it in a variable."
   ]
  },
  {
   "cell_type": "code",
   "execution_count": 4,
   "metadata": {},
   "outputs": [
    {
     "output_type": "stream",
     "name": "stdout",
     "text": [
      "[70, 76, 79, 80, 80, 81, 83, 90]\n"
     ]
    }
   ],
   "source": [
    "is_high_temperature_if_greater_than = 70\n",
    "high_temperatures = []\n",
    "\n",
    "for temperature in temperatures_C:\n",
    "    if temperature >= is_high_temperature_if_greater_than:\n",
    "        high_temperatures.append(temperature)\n",
    "\n",
    "high_temperatures.sort()\n",
    "\n",
    "print(high_temperatures)"
   ]
  },
  {
   "cell_type": "markdown",
   "metadata": {},
   "source": [
    "#### 4. Find the average temperature of the day and store it in a variable."
   ]
  },
  {
   "cell_type": "code",
   "execution_count": 5,
   "metadata": {},
   "outputs": [
    {
     "output_type": "stream",
     "name": "stdout",
     "text": [
      "The average temperature of the day has been 60 ºC.\n"
     ]
    }
   ],
   "source": [
    "average_temperature = sum(temperatures_C) / len(temperatures_C)\n",
    "\n",
    "print('The average temperature of the day has been', round(average_temperature), 'ºC.')"
   ]
  },
  {
   "cell_type": "markdown",
   "metadata": {},
   "source": [
    "#### 5. Imagine that there was a sensor failure at 3am and the data for that specific hour was not recorded. How would you estimate the missing value? Replace the current value of the list at 3am for an estimation. "
   ]
  },
  {
   "cell_type": "code",
   "execution_count": 6,
   "metadata": {},
   "outputs": [
    {
     "output_type": "stream",
     "name": "stdout",
     "text": [
      "The estimated temperature at 3am could be found by using the average temperature of the night (0am to 6am), which has been 58 ºC.\nThe new temperatures list, including the estimated value at 3am, is [33, 66, 65, 58, 59, 60, 62, 64, 70, 76, 80, 81, 80, 83, 90, 79, 61, 53, 50, 49, 53, 48, 45, 39]\n"
     ]
    }
   ],
   "source": [
    "invalid_measure_index = 3\n",
    "end_of_the_night_index = 7\n",
    "nightly_temperatures = []\n",
    "fixed_temperatures_C = []\n",
    "\n",
    "for measure in range(len(temperatures_C)):\n",
    "    if (measure < end_of_the_night_index) & (measure != invalid_measure_index):\n",
    "        nightly_temperatures.append(temperatures_C[measure])\n",
    "    if (measure != invalid_measure_index):\n",
    "        fixed_temperatures_C.append(temperatures_C[measure])\n",
    "\n",
    "average_nightly_temperature = sum(nightly_temperatures) / (len(nightly_temperatures))\n",
    "print('The estimated temperature at 3am could be found by using the average temperature of the night (0am to 6am), which has been', round(average_nightly_temperature), 'ºC.')\n",
    "\n",
    "fixed_temperatures_C.insert(3, round(average_nightly_temperature))\n",
    "print('The new temperatures list, including the estimated value at 3am, is', fixed_temperatures_C)"
   ]
  },
  {
   "cell_type": "markdown",
   "metadata": {},
   "source": [
    "#### 6. Bonus: the maintenance staff is from the United States and does not understand the international metric system. Help them by converting the temperatures from Celsius to Fahrenheit.\n",
    "To know more about temperature conversion check this [link](https://en.wikipedia.org/wiki/Conversion_of_units_of_temperature).\n",
    "\n",
    "**Formula**: \n",
    "\n",
    "$F = 1.8 * C + 32$"
   ]
  },
  {
   "cell_type": "code",
   "execution_count": 7,
   "metadata": {},
   "outputs": [
    {
     "output_type": "stream",
     "name": "stdout",
     "text": [
      "The temperatures converted to Fahrenheit are [91, 151, 149, 32, 138, 140, 144, 147, 158, 169, 176, 178, 176, 181, 194, 174, 142, 127, 122, 120, 127, 118, 113, 102]\n"
     ]
    }
   ],
   "source": [
    "temperatures_F = []\n",
    "\n",
    "for temperature in temperatures_C:\n",
    "    temperature_F = 1.8 * temperature + 32\n",
    "    temperatures_F.append(round(temperature_F))\n",
    "\n",
    "print('The temperatures converted to Fahrenheit are',temperatures_F)"
   ]
  },
  {
   "cell_type": "markdown",
   "metadata": {},
   "source": [
    "#### 7. Make a decision!\n",
    "Now it's time to make a decision taking into account what you have seen until now. \n",
    "\n",
    "Remember that if one of the following events occurs, then the cooling system needs to be replaced for a new one to avoid damaging the processor.\n",
    "* More than 4 temperatures are greater than or equal to 70ºC.\n",
    "* Any temperature is above 80ºC.\n",
    "* The average temperature exceeds 65ºC.\n",
    "\n",
    "#### To make your decision, check if any of the three conditions above is met. You might need to use some of the variables you created in steps 1 to 6. Print a message to show if the cooling system needs to be changed or not."
   ]
  },
  {
   "cell_type": "code",
   "execution_count": 8,
   "metadata": {},
   "outputs": [
    {
     "output_type": "stream",
     "name": "stdout",
     "text": [
      "The cooling system needs a replacement.\n"
     ]
    }
   ],
   "source": [
    "temperatures_greater_or_equal_to_70_allowed = 4\n",
    "max_temperature_allowed = 80\n",
    "max_average_temperature_allowed = 65\n",
    "\n",
    "if (len(high_temperatures) >= temperatures_greater_or_equal_to_70_allowed) | (max_temperature > max_temperature_allowed) | (average_temperature > max_average_temperature_allowed):\n",
    "    print('The cooling system needs a replacement.')\n",
    "else:\n",
    "    print('The cooling system works well! Save money for now :)')"
   ]
  },
  {
   "cell_type": "markdown",
   "metadata": {},
   "source": [
    "## Bonus\n",
    "\n",
    "The company has decided that the decision you made is not valid. They want you to analyze the data again but this time, the conditions that need to be met in order to change the cooling system are different.\n",
    "\n",
    "This time, if one of the following events occurs, then the cooling system needs to be replaced:\n",
    "* The temperature is greater than 70ºC during more than 4 consecutive hours.\n",
    "* Any temperature is above 80ºC.\n",
    "* The average temperature exceeds 65ºC.\n",
    "\n",
    "Follow the steps so that you can make the decision.\n",
    "\n",
    "#### 1. Create a list with the hours where the temperature is greater than 70ºC. Store it in a variable."
   ]
  },
  {
   "cell_type": "code",
   "execution_count": 14,
   "metadata": {},
   "outputs": [],
   "source": [
    "hours_where_temperatures_are_greater_than_70 = []\n",
    "\n",
    "for hour in range(len(temperatures_C)):\n",
    "    if temperatures_C[hour] > is_high_temperature_if_greater_than:\n",
    "        hours_where_temperatures_are_greater_than_70.append(hour)"
   ]
  },
  {
   "cell_type": "markdown",
   "metadata": {},
   "source": [
    "#### 2. Check if the list you created in step 1 has more than 4 consecutive hours. "
   ]
  },
  {
   "cell_type": "code",
   "execution_count": 10,
   "metadata": {},
   "outputs": [
    {
     "output_type": "stream",
     "name": "stdout",
     "text": [
      "The list has more than 4 consecutive hours.\n"
     ]
    }
   ],
   "source": [
    "max_consecutive_hours = 4\n",
    "counter = 0\n",
    "last_element = temperatures_C[0]\n",
    "has_reached_max = False\n",
    "\n",
    "for hour in hours_where_temperatures_are_greater_than_70:\n",
    "    if (last_element + 1) == hour:\n",
    "        counter += 1\n",
    "    else:\n",
    "        counter = 0\n",
    "\n",
    "    if counter > max_consecutive_hours:\n",
    "        has_reached_max = True\n",
    "\n",
    "    last_element = hour\n",
    "\n",
    "if has_reached_max == True:\n",
    "    print('The list has more than 4 consecutive hours.')\n",
    "else:\n",
    "    print('The list has not more than 4 consecutive hours.')"
   ]
  },
  {
   "cell_type": "markdown",
   "metadata": {},
   "source": [
    "#### 3. Make the decision!\n",
    "To make your decision, check if any of the three conditions is met. Print a message to show if the cooling system needs to be changed or not."
   ]
  },
  {
   "cell_type": "code",
   "execution_count": 11,
   "metadata": {},
   "outputs": [
    {
     "output_type": "stream",
     "name": "stdout",
     "text": [
      "The cooling system needs a replacement.\n"
     ]
    }
   ],
   "source": [
    "if (has_reached_max == True) | (max_temperature > max_temperature_allowed) | (average_temperature > max_average_temperature_allowed):\n",
    "    print('The cooling system needs a replacement.')\n",
    "else:\n",
    "    print('The cooling system works well! Save money for now :)')"
   ]
  },
  {
   "cell_type": "markdown",
   "metadata": {},
   "source": [
    "#### 4. Find the average value of the temperature lists (ºC and ºF). What is the relation between both average values?"
   ]
  },
  {
   "cell_type": "code",
   "execution_count": 12,
   "metadata": {},
   "outputs": [
    {
     "output_type": "stream",
     "name": "stdout",
     "text": [
      "The average temperature in Celsius is 60 ºC.\nThe average temperature in Fahrenheit is 140 ºF.\nThe average temperature in Fahrenheit follows the exact conversion formula, therefore there is a relation and it is the same temperature.\n"
     ]
    }
   ],
   "source": [
    "average_temperature_C = sum(temperatures_C) / len(temperatures_C)\n",
    "print('The average temperature in Celsius is', round(average_temperature_C), 'ºC.')\n",
    "\n",
    "average_temperature_F = sum(temperatures_F) / len(temperatures_F)\n",
    "print('The average temperature in Fahrenheit is', round(average_temperature_F), 'ºF.')\n",
    "\n",
    "if round(average_temperature_F) == (1.8 * round(average_temperature_C) + 32):\n",
    "    print('The average temperature in Fahrenheit follows the exact conversion formula, therefore there is a relation. It is the same temperature.')\n",
    "else:\n",
    "    print('There is no relation between both average values.')"
   ]
  },
  {
   "cell_type": "markdown",
   "metadata": {},
   "source": [
    "#### 5. Find the standard deviation of the temperature lists (ºC and ºF). What is the relation between both standard deviations?"
   ]
  },
  {
   "cell_type": "code",
   "execution_count": 13,
   "metadata": {},
   "outputs": [
    {
     "output_type": "stream",
     "name": "stdout",
     "text": [
      "The standard deviaton of the temperature list in Celsius is 19.29\nThe standard deviaton of the temperature list in Fahrenheit is 34.77\n"
     ]
    }
   ],
   "source": [
    "stdev_temperatures_C = []\n",
    "\n",
    "for temperature in temperatures_C:\n",
    "    stdev_temperatures_C.append((temperature - average_temperature_C) ** 2)\n",
    "\n",
    "stdev_C = (sum(stdev_temperatures_C) / len(temperatures_C)) ** 0.5\n",
    "print('The standard deviaton of the temperature list in Celsius is', round(stdev_C, 2))\n",
    "\n",
    "stdev_temperatures_F = []\n",
    "\n",
    "for temperature in temperatures_F:\n",
    "    stdev_temperatures_F.append((temperature - average_temperature_F) ** 2)\n",
    "\n",
    "stdev_F = (sum(stdev_temperatures_F) / len(temperatures_F)) ** 0.5\n",
    "print('The standard deviaton of the temperature list in Fahrenheit is', round(stdev_F, 2))"
   ]
  }
 ],
 "metadata": {
  "kernelspec": {
   "name": "python3",
   "display_name": "Python 3.9.1 64-bit",
   "metadata": {
    "interpreter": {
     "hash": "ac2eaa0ea0ebeafcc7822e65e46aa9d4f966f30b695406963e145ea4a91cd4fc"
    }
   }
  },
  "language_info": {
   "codemirror_mode": {
    "name": "ipython",
    "version": 3
   },
   "file_extension": ".py",
   "mimetype": "text/x-python",
   "name": "python",
   "nbconvert_exporter": "python",
   "pygments_lexer": "ipython3",
   "version": "3.9.1-final"
  }
 },
 "nbformat": 4,
 "nbformat_minor": 2
}