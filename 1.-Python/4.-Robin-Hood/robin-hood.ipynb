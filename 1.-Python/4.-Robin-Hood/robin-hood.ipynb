{
 "cells": [
  {
   "cell_type": "markdown",
   "metadata": {},
   "source": [
    "<img src=\"https://bit.ly/2VnXWr2\" width=\"100\" align=\"left\"/>"
   ]
  },
  {
   "cell_type": "markdown",
   "metadata": {},
   "source": [
    "# Robin Hood\n",
    "Robin Hood has entered a competition to win the archery contest in Sherwood. With his bow and arrows, he needs to shoot on a target and try to hit as close as possible to the center.\n",
    "\n",
    "![](images/arrows.jpg)\n",
    "\n",
    "## Context\n",
    "In this challenge, the landing position of arrows shot by archers in the competition will be represented using 2-dimensional coordinates. \n",
    "\n",
    "In the 2-dimensional space, a point can be defined by a pair of values that correspond to the horizontal coordinate (x) and the vertical coordinate (y). For example, in our case, an arrow that hits the center of the archery target will land in position (0, 0) on the coordinate axes. \n",
    "\n",
    "The space can be divided into 4 zones (quadrants): Q1, Q2, Q3, Q4. If a point is in Q1, both its x coordinate and y coordinate are positive. Any point with a null x or y coordinate is considered to not belong to any quadrant. \n",
    "\n",
    "If you want to know more about the cartesian coordinate system, you can check this [link](https://en.wikipedia.org/wiki/Cartesian_coordinate_system). \n",
    "\n",
    "## Tools\n",
    "You don't necessarily need to use all the tools. Maybe you opt to use some of them or completely different ones, they are given to help you shape the exercise. Programming exercises can be solved in many different ways.\n",
    "* Data structures: **lists, sets, tuples**\n",
    "* Conditional statements: **if-elif-else**\n",
    "* Loop: **while/for**\n",
    "* Minimum (optional sorting)\n",
    "\n",
    "## Tasks\n",
    "Robin Hood has hit the following points:"
   ]
  },
  {
   "cell_type": "code",
   "execution_count": 43,
   "metadata": {},
   "outputs": [],
   "source": [
    "points = [(4, 5), (-0, 2), (4, 7), (1, -3), (3, -2), (4, 5), (3, 2), (5, 7), (-5, 7), (2, 2), (-4, 5), (0, -2),\n",
    "          (-4, 7), (-1, 3), (-3, 2), (-4, -5), (-3, 2), (5, 7), (5, 7), (2, 2), (9, 9), (-8, -9)]"
   ]
  },
  {
   "cell_type": "markdown",
   "metadata": {},
   "source": [
    "#### 1. Robin Hood is famous for hitting an arrow with another arrow. Find the coordinates of the points where an arrow hits another arrow."
   ]
  },
  {
   "cell_type": "code",
   "execution_count": 44,
   "metadata": {},
   "outputs": [
    {
     "output_type": "stream",
     "name": "stdout",
     "text": [
      "The points were an arrow hits another arrow are {(-3, 2), (4, 5), (5, 7), (2, 2)}\n"
     ]
    }
   ],
   "source": [
    "unique_points = set()\n",
    "duplicated_points = set()\n",
    "\n",
    "for point in points:\n",
    "    if point in unique_points:\n",
    "        duplicated_points.add(point)\n",
    "    else:\n",
    "        unique_points.add(point)\n",
    "\n",
    "print('The points were an arrow hits another arrow are', duplicated_points)"
   ]
  },
  {
   "cell_type": "markdown",
   "metadata": {},
   "source": [
    "#### 2. Calculate how many arrows have fallen in each quadrant. \n",
    "**Note**: the arrows that fall in the axis (x=0 or y=0) don't belong to any quadrant."
   ]
  },
  {
   "cell_type": "code",
   "execution_count": 45,
   "metadata": {},
   "outputs": [
    {
     "output_type": "stream",
     "name": "stdout",
     "text": [
      "10 arrows have fallen in the first quadrant, 6 in the second, 2 in the third, and 2 in the fourth. There have been 2 arrows that have not fallen in any quadrant.\n"
     ]
    }
   ],
   "source": [
    "quadrant_1 = 0\n",
    "quadrant_2 = 0\n",
    "quadrant_3 = 0\n",
    "quadrant_4 = 0\n",
    "axis_0 = 0\n",
    "\n",
    "for point in points:\n",
    "    if (point[0] > 0) & (point[1] > 0):\n",
    "        quadrant_1 += 1\n",
    "    elif (point[0] < 0) & (point[1] > 0):\n",
    "        quadrant_2 += 1\n",
    "    elif (point[0] < 0) & (point[1] < 0):\n",
    "        quadrant_3 += 1\n",
    "    elif (point[0] > 0) & (point[1] < 0):\n",
    "       quadrant_4 += 1\n",
    "    else:\n",
    "        axis_0 += 1\n",
    "\n",
    "print(quadrant_1, 'arrows have fallen in the first quadrant,', quadrant_2, 'in the second,', quadrant_3, 'in the third, and', quadrant_4, 'in the fourth. There have been', axis_0, 'arrows that have not fallen in any quadrant.')"
   ]
  },
  {
   "cell_type": "markdown",
   "metadata": {},
   "source": [
    "#### 3. Find the point closest to the center. Calculate its distance to the center. \n",
    "Take into account that there might be more than one point at the minimum distance to the center.\n",
    "\n",
    "**Hint**: Use the Euclidean distance. You can find more information about it [here](https://en.wikipedia.org/wiki/Euclidean_distance).  \n",
    "**Hint**: Defining a function that calculates the distance to the center can help."
   ]
  },
  {
   "cell_type": "code",
   "execution_count": 46,
   "metadata": {},
   "outputs": [
    {
     "output_type": "stream",
     "name": "stdout",
     "text": [
      "The closest points to the center are [(0, 2), (0, -2)]\n"
     ]
    }
   ],
   "source": [
    "distance_to_the_center = []\n",
    "center = (0, 0)\n",
    "\n",
    "for point in points:\n",
    "    distance = (((point[0] - center[0])** 2)+ ((point[1] - center[1])** 2)) ** 0.5\n",
    "    distance_to_the_center.append(distance)\n",
    "\n",
    "minimum_distance = min(distance_to_the_center)\n",
    "closest_points = []\n",
    "\n",
    "for index in range(len(points)):\n",
    "    if distance_to_the_center[index] == minimum_distance:\n",
    "        closest_points.append(points[index])\n",
    "\n",
    "print('The closest points to the center are', closest_points)"
   ]
  },
  {
   "cell_type": "markdown",
   "metadata": {},
   "source": [
    "#### 4. If the archery target has a radius of 9, calculate the number of arrows that won't hit the target. \n",
    "**Hint**: Use the function created in step 3. "
   ]
  },
  {
   "cell_type": "code",
   "execution_count": 47,
   "metadata": {},
   "outputs": [
    {
     "output_type": "stream",
     "name": "stdout",
     "text": [
      "There are 2 arrows that have not hit the target.\n"
     ]
    }
   ],
   "source": [
    "target_radius = 9\n",
    "outside_arrows = 0\n",
    "\n",
    "for distance in distance_to_the_center:\n",
    "    if distance > target_radius:\n",
    "        outside_arrows += 1\n",
    "\n",
    "print('There are', outside_arrows, 'arrows that have not hit the target.')"
   ]
  }
 ],
 "metadata": {
  "kernelspec": {
   "name": "python3",
   "display_name": "Python 3.9.1 64-bit",
   "metadata": {
    "interpreter": {
     "hash": "ac2eaa0ea0ebeafcc7822e65e46aa9d4f966f30b695406963e145ea4a91cd4fc"
    }
   }
  },
  "language_info": {
   "codemirror_mode": {
    "name": "ipython",
    "version": 3
   },
   "file_extension": ".py",
   "mimetype": "text/x-python",
   "name": "python",
   "nbconvert_exporter": "python",
   "pygments_lexer": "ipython3",
   "version": "3.9.1-final"
  }
 },
 "nbformat": 4,
 "nbformat_minor": 2
}